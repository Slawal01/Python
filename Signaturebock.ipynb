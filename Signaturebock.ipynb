{
  "nbformat": 4,
  "nbformat_minor": 0,
  "metadata": {
    "colab": {
      "name": "Signaturebock.ipynb",
      "private_outputs": true,
      "provenance": [],
      "authorship_tag": "ABX9TyOonyGFdiIlF70lSOrJ0lup",
      "include_colab_link": true
    },
    "kernelspec": {
      "name": "python3",
      "display_name": "Python 3"
    },
    "language_info": {
      "name": "python"
    }
  },
  "cells": [
    {
      "cell_type": "markdown",
      "metadata": {
        "id": "view-in-github",
        "colab_type": "text"
      },
      "source": [
        "<a href=\"https://colab.research.google.com/github/jnoblegmail/jnoblegmail/blob/main/Signaturebock.ipynb\" target=\"_parent\"><img src=\"https://colab.research.google.com/assets/colab-badge.svg\" alt=\"Open In Colab\"/></a>"
      ]
    },
    {
      "cell_type": "code",
      "metadata": {
        "id": "ax0g_5C1FKqx"
      },
      "source": [
        "!pip install pyfiglet"
      ],
      "execution_count": null,
      "outputs": []
    },
    {
      "cell_type": "code",
      "metadata": {
        "id": "Utwpbk0N7fkM"
      },
      "source": [
        "#------------------------------------------------------------------------------\n",
        "#   Here's my signature!\n",
        "\n",
        "from pyfiglet import figlet_format\n",
        "print(figlet_format(\"dc0de\", font=\"slant\"))\n"
      ],
      "execution_count": null,
      "outputs": []
    }
  ]
}